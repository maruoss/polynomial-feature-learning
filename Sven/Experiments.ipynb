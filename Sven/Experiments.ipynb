{
 "cells": [
  {
   "cell_type": "code",
   "execution_count": 1,
   "id": "89dd0df5-7388-4c1d-9a5a-7c486bef41e4",
   "metadata": {},
   "outputs": [],
   "source": [
    "import torch\n",
    "from torch import nn\n",
    "from torch.utils.data import DataLoader, Dataset\n",
    "import matplotlib.pyplot as plt\n",
    "import numpy as np\n",
    "from tqdm import tqdm"
   ]
  },
  {
   "cell_type": "code",
   "execution_count": 2,
   "id": "de169363-5e2a-4f7a-8201-bb68b0222a08",
   "metadata": {},
   "outputs": [],
   "source": [
    "torch.set_default_dtype(torch.double)"
   ]
  },
  {
   "cell_type": "code",
   "execution_count": 3,
   "id": "65aadad5-b7bd-45ce-aa03-d15993ecc384",
   "metadata": {},
   "outputs": [
    {
     "name": "stdout",
     "output_type": "stream",
     "text": [
      "Using cuda device\n"
     ]
    }
   ],
   "source": [
    "# Get cpu or gpu device for training.\n",
    "device = \"cuda\" if torch.cuda.is_available() else \"cpu\"\n",
    "# device = \"cpu\"\n",
    "print(f\"Using {device} device\")"
   ]
  },
  {
   "cell_type": "code",
   "execution_count": 4,
   "id": "538dd466-c42e-474a-9afc-511786b645cd",
   "metadata": {},
   "outputs": [
    {
     "name": "stdout",
     "output_type": "stream",
     "text": [
      "SingleNeuron(\n",
      "  (neuron): Linear(in_features=1, out_features=1, bias=True)\n",
      ")\n"
     ]
    }
   ],
   "source": [
    "# Define model\n",
    "class SingleNeuron(nn.Module):\n",
    "    def __init__(self):\n",
    "        super(SingleNeuron, self).__init__()\n",
    "        self.neuron = nn.Linear(1, 1)\n",
    "\n",
    "    def forward(self, x):\n",
    "        x = self.neuron(x)\n",
    "        return x\n",
    "\n",
    "model = SingleNeuron().to(device)\n",
    "print(model)"
   ]
  },
  {
   "cell_type": "code",
   "execution_count": 5,
   "id": "1b2d38d1-e54e-4b17-8a5b-5fb290bce604",
   "metadata": {},
   "outputs": [],
   "source": [
    "# Define Data\n",
    "class Constant(Dataset):\n",
    "    def __init__(self, input_distribution, target, size, seed=0, **kwargs):\n",
    "        rng = np.random.default_rng(seed)\n",
    "        self.x = input_distribution(rng, size=size, **kwargs)\n",
    "        self.x = torch.tensor(self.x).double()\n",
    "        self.y = torch.tensor(target).double()\n",
    "    \n",
    "    def __len__(self):\n",
    "        return self.x.shape[0]\n",
    "    \n",
    "    def __getitem__(self, idx):\n",
    "        return self.x[idx], self.y"
   ]
  },
  {
   "cell_type": "code",
   "execution_count": 6,
   "id": "1f36f1c9-1eb2-4209-840c-5d3ff1290224",
   "metadata": {},
   "outputs": [],
   "source": [
    "training_data = Constant(np.random.Generator.uniform, 0, 100, seed=0)\n",
    "test_data = Constant(np.random.Generator.uniform, 0, 500, seed=123)"
   ]
  },
  {
   "cell_type": "code",
   "execution_count": 7,
   "id": "d073022a-c835-48ee-93cb-5475ac7ed8fa",
   "metadata": {},
   "outputs": [],
   "source": [
    "train_dataloader = DataLoader(training_data, shuffle=True)\n",
    "test_dataloader = DataLoader(test_data, shuffle=True)"
   ]
  },
  {
   "cell_type": "code",
   "execution_count": 8,
   "id": "9f6be71f-c1f7-4474-9f84-046a4a6c8669",
   "metadata": {},
   "outputs": [],
   "source": [
    "loss_fn = nn.MSELoss()\n",
    "optimizer = torch.optim.SGD(model.parameters(), lr=1e-3)"
   ]
  },
  {
   "cell_type": "code",
   "execution_count": 9,
   "id": "f8ded168-4ca2-46a2-bc22-e249ccd48805",
   "metadata": {},
   "outputs": [],
   "source": [
    "def train(dataloader, model, loss_fn, optimizer, print_frequency=0):\n",
    "    size = len(dataloader.dataset)\n",
    "    model.train()\n",
    "    for batch, (X, y) in enumerate(dataloader):\n",
    "        X, y = X.to(device), y.to(device)\n",
    "\n",
    "        # Compute prediction error\n",
    "        pred = model(X)\n",
    "        loss = loss_fn(pred, y)\n",
    "\n",
    "        # Backpropagation\n",
    "        optimizer.zero_grad()\n",
    "        loss.backward()\n",
    "        optimizer.step()\n",
    "\n",
    "        if print_frequency > 0 and batch % print_frequency == 0:\n",
    "            loss, current = loss.item(), batch * len(X)\n",
    "            print(f\"loss: {loss:>7f}  [{current:>5d}/{size:>5d}]\")"
   ]
  },
  {
   "cell_type": "code",
   "execution_count": 10,
   "id": "488b9c57-bfd2-438b-bd52-530603f42329",
   "metadata": {},
   "outputs": [],
   "source": [
    "def test(dataloader, model, loss_fn):\n",
    "    size = len(dataloader.dataset)\n",
    "    num_batches = len(dataloader)\n",
    "    model.eval()\n",
    "    test_loss, correct = 0, 0\n",
    "    with torch.no_grad():\n",
    "        for X, y in dataloader:\n",
    "            X, y = X.to(device), y.to(device)\n",
    "            pred = model(X)\n",
    "            test_loss += loss_fn(pred, y).item()\n",
    "    test_loss /= num_batches\n",
    "    print(f\"Test Error: Avg loss: {test_loss:>8f} \\n\")"
   ]
  },
  {
   "cell_type": "code",
   "execution_count": 11,
   "id": "2cc2ec11-ca5c-4356-9346-6c23d38c2410",
   "metadata": {},
   "outputs": [
    {
     "name": "stdout",
     "output_type": "stream",
     "text": [
      "Epoch 1\n",
      "-------------------------------\n",
      "Test Error: Avg loss: 0.019663 \n",
      "\n",
      "Epoch 2\n",
      "-------------------------------\n",
      "Test Error: Avg loss: 0.012697 \n",
      "\n",
      "Epoch 3\n",
      "-------------------------------\n",
      "Test Error: Avg loss: 0.008633 \n",
      "\n",
      "Epoch 4\n",
      "-------------------------------\n",
      "Test Error: Avg loss: 0.006315 \n",
      "\n",
      "Epoch 5\n",
      "-------------------------------\n",
      "Test Error: Avg loss: 0.004975 \n",
      "\n",
      "Done!\n"
     ]
    }
   ],
   "source": [
    "epochs = 5\n",
    "for t in range(epochs):\n",
    "    print(f\"Epoch {t+1}\\n-------------------------------\")\n",
    "    train(train_dataloader, model, loss_fn, optimizer)\n",
    "    test(test_dataloader, model, loss_fn)\n",
    "print(\"Done!\")"
   ]
  },
  {
   "cell_type": "markdown",
   "id": "8beedd7e-c9a3-43ef-bd73-9315fbfdb5a6",
   "metadata": {
    "tags": []
   },
   "source": [
    "# Vanilla Polynomial Learning"
   ]
  },
  {
   "cell_type": "code",
   "execution_count": 485,
   "id": "21288176-8bdf-4962-9164-01154b5446c8",
   "metadata": {},
   "outputs": [],
   "source": [
    "class LogActivation(nn.Module):\n",
    "    def forward(self, x):\n",
    "        return torch.log(x)\n",
    "        return torch.log(torch.maximum(x, torch.tensor(1e-10)))\n",
    "    \n",
    "class ExpActivation(nn.Module):\n",
    "    def forward(self, x):\n",
    "        return torch.exp(x)"
   ]
  },
  {
   "cell_type": "code",
   "execution_count": 486,
   "id": "26dd6bb1-4f0b-45b5-9008-e83701cf75ba",
   "metadata": {},
   "outputs": [
    {
     "name": "stdout",
     "output_type": "stream",
     "text": [
      "PolynomialNN(\n",
      "  (dense_stack): Sequential(\n",
      "    (0): LogActivation()\n",
      "    (1): Linear(in_features=1, out_features=5, bias=False)\n",
      "    (2): ExpActivation()\n",
      "    (3): Linear(in_features=5, out_features=1, bias=True)\n",
      "  )\n",
      ")\n"
     ]
    }
   ],
   "source": [
    "# Define model\n",
    "class PolynomialNN(nn.Module):\n",
    "    def __init__(self, n_variables=1, n_monomials=1):\n",
    "        super(PolynomialNN, self).__init__()\n",
    "        self.dense_stack = nn.Sequential(\n",
    "            LogActivation(),\n",
    "            nn.Linear(n_variables, n_monomials, bias=False),\n",
    "            ExpActivation(),\n",
    "            nn.Linear(n_monomials, 1)\n",
    "        )\n",
    "        \n",
    "    def forward(self, x):\n",
    "        x = self.dense_stack(x)\n",
    "        return x\n",
    "\n",
    "torch.manual_seed(687226)\n",
    "model = PolynomialNN(1, 5).to(device)\n",
    "print(model)"
   ]
  },
  {
   "cell_type": "code",
   "execution_count": 487,
   "id": "b47a0842-8c87-4277-a3a4-db4fea28ac9f",
   "metadata": {},
   "outputs": [],
   "source": [
    "# Define Data\n",
    "class DatasetFromFunction(Dataset):\n",
    "    def __init__(self, sample_fn, target_fn, size, noise_fn = None, positive_only=False):\n",
    "        self.x = sample_fn(size)[:, None]\n",
    "        if positive_only:\n",
    "            self.x = torch.abs(self.x)\n",
    "        self.y = target_fn(self.x)\n",
    "        if noise_fn:\n",
    "            self.y += noise_fn(size)\n",
    "    \n",
    "    def __len__(self):\n",
    "        return self.x.shape[0]\n",
    "    \n",
    "    def __getitem__(self, idx):\n",
    "        return self.x[idx], self.y[idx]"
   ]
  },
  {
   "cell_type": "code",
   "execution_count": 489,
   "id": "f8231056-d24d-4118-898d-721f477ec459",
   "metadata": {},
   "outputs": [
    {
     "data": {
      "text/plain": [
       "<matplotlib.collections.PathCollection at 0x258e7e9e640>"
      ]
     },
     "execution_count": 489,
     "metadata": {},
     "output_type": "execute_result"
    },
    {
     "data": {
      "image/png": "[encoded data removed]",
      "text/plain": [
       "<Figure size 432x288 with 1 Axes>"
      ]
     },
     "metadata": {
      "needs_background": "light"
     },
     "output_type": "display_data"
    }
   ],
   "source": [
    "rng = torch.Generator(device=\"cpu\")\n",
    "rng.manual_seed(0)\n",
    "# sample_fn = lambda n: torch.normal(0, 1, (n,), generator=rng)\n",
    "sample_fn = lambda n: 2 + truncated_normal(n, -1, rng)\n",
    "target_fn = lambda x: (2*x**3 - 15*x**2 + 36*x - 25)/10\n",
    "training_data = DatasetFromFunction(sample_fn, target_fn, 1000, positive_only = True)\n",
    "test_data = DatasetFromFunction(sample_fn, target_fn, 100, positive_only = True)\n",
    "\n",
    "plt.scatter(training_data[:][0], training_data[:][1], alpha=0.01)"
   ]
  },
  {
   "cell_type": "code",
   "execution_count": 500,
   "id": "f07f72a6-5bc2-4512-9adb-130adc65af6f",
   "metadata": {},
   "outputs": [],
   "source": [
    "train_dataloader = DataLoader(training_data, batch_size=128, shuffle=True)\n",
    "test_dataloader = DataLoader(test_data, batch_size=128, shuffle=True)"
   ]
  },
  {
   "cell_type": "code",
   "execution_count": 501,
   "id": "8586f99e-e70f-4c08-ad31-0cd4fe5bba74",
   "metadata": {},
   "outputs": [],
   "source": [
    "loss_fn = nn.MSELoss()\n",
    "optimizer = torch.optim.SGD(model.parameters(), lr=1e-2, momentum=0.8, nesterov=True)"
   ]
  },
  {
   "cell_type": "code",
   "execution_count": 502,
   "id": "71cbbeed-94bb-45a8-8c97-b9a23de23dc5",
   "metadata": {
    "tags": []
   },
   "outputs": [
    {
     "name": "stderr",
     "output_type": "stream",
     "text": [
      "100%|███████████████████████████████████████████████████████████████████████| 1000/1000 [00:11<00:00, 87.35it/s]"
     ]
    },
    {
     "name": "stdout",
     "output_type": "stream",
     "text": [
      "Test Error: Avg loss: 0.007550 \n",
      "\n",
      "Done!\n"
     ]
    },
    {
     "name": "stderr",
     "output_type": "stream",
     "text": [
      "\n"
     ]
    }
   ],
   "source": [
    "epochs = 1000\n",
    "exponent_path = [model.dense_stack[1].weight.cpu().detach().numpy()]\n",
    "for t in tqdm(range(epochs)):\n",
    "    train(train_dataloader, model, loss_fn, optimizer)\n",
    "    exponent_path.append(model.dense_stack[1].weight.cpu().detach().numpy())\n",
    "test(test_dataloader, model, loss_fn)\n",
    "print(\"Done!\")"
   ]
  },
  {
   "cell_type": "code",
   "execution_count": 504,
   "id": "8fed3548-1da0-41ed-8c5f-1402c49c51f1",
   "metadata": {},
   "outputs": [
    {
     "data": {
      "text/plain": [
       "<matplotlib.legend.Legend at 0x258ef606d90>"
      ]
     },
     "execution_count": 504,
     "metadata": {},
     "output_type": "execute_result"
    },
    {
     "data": {
      "image/png": "[encoded data removed]",
      "text/plain": [
       "<Figure size 432x288 with 1 Axes>"
      ]
     },
     "metadata": {
      "needs_background": "light"
     },
     "output_type": "display_data"
    }
   ],
   "source": [
    "train_x = training_data[:][0]\n",
    "test_x = test_data[:][0]\n",
    "# test_x = torch.normal(0, 3, (100,), generator=rng)[:, None].abs()\n",
    "x = torch.cat((train_x, test_x))\n",
    "x = torch.from_numpy(np.linspace(x.min(), x.max(), 200))\n",
    "\n",
    "model.eval()\n",
    "model.to('cpu')\n",
    "plt.plot(x, target_fn(x), label=\"ground truth\")\n",
    "plt.scatter(test_x, model(test_x).detach(), c=\"green\", alpha=0.5, label=\"test prediction\")\n",
    "plt.scatter(train_x, model(train_x).detach(), c=\"orange\", alpha=0.2, label=\"train prediction\")\n",
    "model.to(device)\n",
    "plt.legend()"
   ]
  },
  {
   "cell_type": "markdown",
   "id": "6b58bb2d-6dac-46d8-b869-23c72381251f",
   "metadata": {
    "tags": []
   },
   "source": [
    "# Vanilla Polynomial Learning with L1 regularized exponents"
   ]
  },
  {
   "cell_type": "code",
   "execution_count": 485,
   "id": "86c4974c",
   "metadata": {},
   "outputs": [],
   "source": [
    "class LogActivation(nn.Module):\n",
    "    def forward(self, x):\n",
    "        return torch.log(x)\n",
    "        return torch.log(torch.maximum(x, torch.tensor(1e-10)))\n",
    "    \n",
    "class ExpActivation(nn.Module):\n",
    "    def forward(self, x):\n",
    "        return torch.exp(x)"
   ]
  },
  {
   "cell_type": "code",
   "execution_count": 486,
   "id": "26dd6bb1-4f0b-45b5-9008-e83701cf75ba",
   "metadata": {},
   "outputs": [
    {
     "name": "stdout",
     "output_type": "stream",
     "text": [
      "PolynomialNN(\n",
      "  (dense_stack): Sequential(\n",
      "    (0): LogActivation()\n",
      "    (1): Linear(in_features=1, out_features=5, bias=False)\n",
      "    (2): ExpActivation()\n",
      "    (3): Linear(in_features=5, out_features=1, bias=True)\n",
      "  )\n",
      ")\n"
     ]
    }
   ],
   "source": [
    "# Define model\n",
    "class PolynomialNN(nn.Module):\n",
    "    def __init__(self, n_variables=1, n_monomials=1):\n",
    "        super(PolynomialNN, self).__init__()\n",
    "        self.dense_stack = nn.Sequential(\n",
    "            LogActivation(),\n",
    "            nn.Linear(n_variables, n_monomials, bias=False),\n",
    "            ExpActivation(),\n",
    "            nn.Linear(n_monomials, 1)\n",
    "        )\n",
    "        \n",
    "    def forward(self, x):\n",
    "        x = self.dense_stack(x)\n",
    "        return x\n",
    "\n",
    "torch.manual_seed(687226)\n",
    "model = PolynomialNN(1, 5).to(device)\n",
    "print(model)"
   ]
  },
  {
   "cell_type": "code",
   "execution_count": 487,
   "id": "b47a0842-8c87-4277-a3a4-db4fea28ac9f",
   "metadata": {},
   "outputs": [],
   "source": [
    "# Define Data\n",
    "class DatasetFromFunction(Dataset):\n",
    "    def __init__(self, sample_fn, target_fn, size, noise_fn = None, positive_only=False):\n",
    "        self.x = sample_fn(size)[:, None]\n",
    "        if positive_only:\n",
    "            self.x = torch.abs(self.x)\n",
    "        self.y = target_fn(self.x)\n",
    "        if noise_fn:\n",
    "            self.y += noise_fn(size)\n",
    "    \n",
    "    def __len__(self):\n",
    "        return self.x.shape[0]\n",
    "    \n",
    "    def __getitem__(self, idx):\n",
    "        return self.x[idx], self.y[idx]"
   ]
  },
  {
   "cell_type": "code",
   "execution_count": 488,
   "id": "deaf83c2-c834-46d6-86dd-9a913af48ad5",
   "metadata": {},
   "outputs": [],
   "source": [
    "def truncated_normal(n, min_val, rng):\n",
    "    normal_sample = lambda: torch.normal(0, 1, (n,), generator=rng)\n",
    "    x = normal_sample()\n",
    "    while (x < min_val).any():\n",
    "        x_new = normal_sample()\n",
    "        x[x < min_val] = x_new[x < min_val]\n",
    "    return x"
   ]
  },
  {
   "cell_type": "code",
   "execution_count": 489,
   "id": "f8231056-d24d-4118-898d-721f477ec459",
   "metadata": {},
   "outputs": [
    {
     "data": {
      "text/plain": [
       "<matplotlib.collections.PathCollection at 0x258e7e9e640>"
      ]
     },
     "execution_count": 489,
     "metadata": {},
     "output_type": "execute_result"
    },
    {
     "data": {
      "image/png": "[encoded data removed]",
      "text/plain": [
       "<Figure size 432x288 with 1 Axes>"
      ]
     },
     "metadata": {
      "needs_background": "light"
     },
     "output_type": "display_data"
    }
   ],
   "source": [
    "rng = torch.Generator(device=\"cpu\")\n",
    "rng.manual_seed(0)\n",
    "# sample_fn = lambda n: torch.normal(0, 1, (n,), generator=rng)\n",
    "sample_fn = lambda n: 2 + truncated_normal(n, -1, rng)\n",
    "target_fn = lambda x: (2*x**3 - 15*x**2 + 36*x - 25)/10\n",
    "training_data = DatasetFromFunction(sample_fn, target_fn, 1000, positive_only = True)\n",
    "test_data = DatasetFromFunction(sample_fn, target_fn, 100, positive_only = True)\n",
    "\n",
    "plt.scatter(training_data[:][0], training_data[:][1], alpha=0.01)"
   ]
  },
  {
   "cell_type": "code",
   "execution_count": 500,
   "id": "f07f72a6-5bc2-4512-9adb-130adc65af6f",
   "metadata": {},
   "outputs": [],
   "source": [
    "train_dataloader = DataLoader(training_data, batch_size=128, shuffle=True)\n",
    "test_dataloader = DataLoader(test_data, batch_size=128, shuffle=True)"
   ]
  },
  {
   "cell_type": "code",
   "execution_count": 501,
   "id": "8586f99e-e70f-4c08-ad31-0cd4fe5bba74",
   "metadata": {},
   "outputs": [],
   "source": [
    "loss_fn = nn.MSELoss()\n",
    "optimizer = torch.optim.SGD(model.parameters(), lr=1e-2, momentum=0.8, nesterov=True)"
   ]
  },
  {
   "cell_type": "code",
   "execution_count": 502,
   "id": "71cbbeed-94bb-45a8-8c97-b9a23de23dc5",
   "metadata": {
    "tags": []
   },
   "outputs": [
    {
     "name": "stderr",
     "output_type": "stream",
     "text": [
      "100%|███████████████████████████████████████████████████████████████████████| 1000/1000 [00:11<00:00, 87.35it/s]"
     ]
    },
    {
     "name": "stdout",
     "output_type": "stream",
     "text": [
      "Test Error: Avg loss: 0.007550 \n",
      "\n",
      "Done!\n"
     ]
    },
    {
     "name": "stderr",
     "output_type": "stream",
     "text": [
      "\n"
     ]
    }
   ],
   "source": [
    "epochs = 1000\n",
    "exponent_path = [model.dense_stack[1].weight.cpu().detach().numpy()]\n",
    "for t in tqdm(range(epochs)):\n",
    "    train(train_dataloader, model, loss_fn, optimizer)\n",
    "    exponent_path.append(model.dense_stack[1].weight.cpu().detach().numpy())\n",
    "test(test_dataloader, model, loss_fn)\n",
    "print(\"Done!\")"
   ]
  },
  {
   "cell_type": "code",
   "execution_count": 503,
   "id": "bf1cd752-a93c-43f8-a05a-6afee1f40020",
   "metadata": {},
   "outputs": [
    {
     "data": {
      "text/plain": [
       "Text(0, 0.5, 'Exponent value')"
      ]
     },
     "execution_count": 503,
     "metadata": {},
     "output_type": "execute_result"
    },
    {
     "data": {
      "image/png": "[encoded data removed]",
      "text/plain": [
       "<Figure size 432x288 with 1 Axes>"
      ]
     },
     "metadata": {
      "needs_background": "light"
     },
     "output_type": "display_data"
    }
   ],
   "source": [
    "paths = np.stack(exponent_path).squeeze()\n",
    "plt.plot(paths, label=\"Learned exponents\")\n",
    "if paths.min() < -10:\n",
    "    plt.yscale('symlog')\n",
    "    plt.ylim(top = 1.5*max(3, paths.max()))\n",
    "\n",
    "plt.axhline(3, label='Target Rank', c=\"red\", ls=\"--\")\n",
    "plt.legend()\n",
    "plt.title(\"Learned Exponent Paths\")\n",
    "plt.xlabel(\"Epoch\")\n",
    "plt.ylabel(\"Exponent value\")"
   ]
  },
  {
   "cell_type": "code",
   "execution_count": 504,
   "id": "8fed3548-1da0-41ed-8c5f-1402c49c51f1",
   "metadata": {},
   "outputs": [
    {
     "data": {
      "text/plain": [
       "<matplotlib.legend.Legend at 0x258ef606d90>"
      ]
     },
     "execution_count": 504,
     "metadata": {},
     "output_type": "execute_result"
    },
    {
     "data": {
      "image/png": "[encoded data removed]",
      "text/plain": [
       "<Figure size 432x288 with 1 Axes>"
      ]
     },
     "metadata": {
      "needs_background": "light"
     },
     "output_type": "display_data"
    }
   ],
   "source": [
    "train_x = training_data[:][0]\n",
    "test_x = test_data[:][0]\n",
    "# test_x = torch.normal(0, 3, (100,), generator=rng)[:, None].abs()\n",
    "x = torch.cat((train_x, test_x))\n",
    "x = torch.from_numpy(np.linspace(x.min(), x.max(), 200))\n",
    "\n",
    "model.eval()\n",
    "model.to('cpu')\n",
    "plt.plot(x, target_fn(x), label=\"ground truth\")\n",
    "plt.scatter(test_x, model(test_x).detach(), c=\"green\", alpha=0.5, label=\"test prediction\")\n",
    "plt.scatter(train_x, model(train_x).detach(), c=\"orange\", alpha=0.2, label=\"train prediction\")\n",
    "model.to(device)\n",
    "plt.legend()"
   ]
  },
  {
   "cell_type": "code",
   "execution_count": 505,
   "id": "a48e0178-f02e-4c4a-bd92-a60a8a5a1b5c",
   "metadata": {},
   "outputs": [
    {
     "data": {
      "text/plain": [
       "(Parameter containing:\n",
       " tensor([[ 1.8807],\n",
       "         [ 0.9712],\n",
       "         [-0.4630],\n",
       "         [-2.6923],\n",
       "         [-0.4569]], device='cuda:0', requires_grad=True),\n",
       " None)"
      ]
     },
     "execution_count": 505,
     "metadata": {},
     "output_type": "execute_result"
    }
   ],
   "source": [
    "model.dense_stack[1].weight, model.dense_stack[1].bias"
   ]
  },
  {
   "cell_type": "code",
   "execution_count": 506,
   "id": "b3937b97-86d3-45a3-9c14-8c6e5b3dff13",
   "metadata": {},
   "outputs": [
    {
     "data": {
      "text/plain": [
       "(Parameter containing:\n",
       " tensor([[ 0.3627, -1.4972,  1.0129, -2.1044,  1.2906]], device='cuda:0',\n",
       "        requires_grad=True),\n",
       " Parameter containing:\n",
       " tensor([0.5126], device='cuda:0', requires_grad=True))"
      ]
     },
     "execution_count": 506,
     "metadata": {},
     "output_type": "execute_result"
    }
   ],
   "source": [
    "model.dense_stack[-1].weight, model.dense_stack[-1].bias"
   ]
  },
  {
   "cell_type": "code",
   "execution_count": null,
   "id": "230d7e5f-0c3a-4a39-bb97-b19cf4d77c00",
   "metadata": {},
   "outputs": [],
   "source": []
  }
 ],
 "metadata": {
  "kernelspec": {
   "display_name": "Python 3 (ipykernel)",
   "language": "python",
   "name": "python3"
  },
  "language_info": {
   "codemirror_mode": {
    "name": "ipython",
    "version": 3
   },
   "file_extension": ".py",
   "mimetype": "text/x-python",
   "name": "python",
   "nbconvert_exporter": "python",
   "pygments_lexer": "ipython3",
   "version": "3.8.12"
  }
 },
 "nbformat": 4,
 "nbformat_minor": 5
}
