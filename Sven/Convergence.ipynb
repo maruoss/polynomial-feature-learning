{
 "cells": [
  {
   "cell_type": "code",
   "execution_count": 1,
   "id": "89dd0df5-7388-4c1d-9a5a-7c486bef41e4",
   "metadata": {},
   "outputs": [],
   "source": [
    "import torch\n",
    "from torch import nn\n",
    "from torch.utils.data import DataLoader, Dataset\n",
    "import matplotlib.pyplot as plt\n",
    "import numpy as np\n",
    "from tqdm import tqdm"
   ]
  },
  {
   "cell_type": "code",
   "execution_count": 2,
   "id": "de169363-5e2a-4f7a-8201-bb68b0222a08",
   "metadata": {},
   "outputs": [],
   "source": [
    "torch.set_default_dtype(torch.double)"
   ]
  },
  {
   "cell_type": "code",
   "execution_count": 3,
   "id": "65aadad5-b7bd-45ce-aa03-d15993ecc384",
   "metadata": {},
   "outputs": [
    {
     "name": "stdout",
     "output_type": "stream",
     "text": [
      "Using cuda device\n"
     ]
    }
   ],
   "source": [
    "# Get cpu or gpu device for training.\n",
    "device = \"cuda\" if torch.cuda.is_available() else \"cpu\"\n",
    "# device = \"cpu\"\n",
    "print(f\"Using {device} device\")"
   ]
  },
  {
   "cell_type": "code",
   "execution_count": 4,
   "id": "f8ded168-4ca2-46a2-bc22-e249ccd48805",
   "metadata": {},
   "outputs": [],
   "source": [
    "def train(dataloader, model, loss_fn, optimizer, print_frequency=0):\n",
    "    size = len(dataloader.dataset)\n",
    "    model.train()\n",
    "    for batch, (X, y) in enumerate(dataloader):\n",
    "        X, y = X.to(device), y.to(device)\n",
    "\n",
    "        # Compute prediction error\n",
    "        pred = model(X)\n",
    "        loss = loss_fn(pred, y)\n",
    "\n",
    "        # Backpropagation\n",
    "        optimizer.zero_grad()\n",
    "        loss.backward()\n",
    "        optimizer.step()\n",
    "\n",
    "        if print_frequency > 0 and batch % print_frequency == 0:\n",
    "            loss, current = loss.item(), batch * len(X)\n",
    "            print(f\"loss: {loss:>7f}  [{current:>5d}/{size:>5d}]\")"
   ]
  },
  {
   "cell_type": "code",
   "execution_count": 5,
   "id": "488b9c57-bfd2-438b-bd52-530603f42329",
   "metadata": {},
   "outputs": [],
   "source": [
    "def test(dataloader, model, loss_fn, print_loss=True):\n",
    "    size = len(dataloader.dataset)\n",
    "    num_batches = len(dataloader)\n",
    "    model.eval()\n",
    "    test_loss, correct = 0, 0\n",
    "    with torch.no_grad():\n",
    "        for X, y in dataloader:\n",
    "            X, y = X.to(device), y.to(device)\n",
    "            pred = model(X)\n",
    "            test_loss += loss_fn(pred, y).item()\n",
    "    test_loss /= num_batches\n",
    "    if print_loss:\n",
    "        print(f\"Test Error: Avg loss: {test_loss:>8f} \\n\")\n",
    "    return test_loss"
   ]
  },
  {
   "cell_type": "code",
   "execution_count": 6,
   "id": "b7a3936c-40c9-4996-8e40-0b2939ac21ba",
   "metadata": {},
   "outputs": [],
   "source": [
    "class LogActivation(nn.Module):\n",
    "    def forward(self, x):\n",
    "        return torch.log(x)\n",
    "        return torch.log(torch.maximum(x, torch.tensor(1e-10)))\n",
    "    \n",
    "class ExpActivation(nn.Module):\n",
    "    def forward(self, x):\n",
    "        return torch.exp(x)\n",
    "\n",
    "# Define model\n",
    "class PolynomialNN(nn.Module):\n",
    "    def __init__(self, n_monomials=1):\n",
    "        super(PolynomialNN, self).__init__()\n",
    "        self.stack = nn.Sequential(\n",
    "            LogActivation(),\n",
    "            nn.Linear(1, n_monomials),\n",
    "            ExpActivation(),\n",
    "            nn.Linear(n_monomials, 1)\n",
    "        )\n",
    "        \n",
    "    def forward(self, x):\n",
    "        x = self.stack(x)\n",
    "        return x\n",
    "    \n",
    "    def get_exponents(self):\n",
    "        return self.stack[1].weight.detach().cpu().numpy()\n",
    "    \n",
    "    def get_coefficients(self):\n",
    "        return self.stack[3].weight.detach().cpu().numpy()\n",
    "    \n",
    "    def get_bias(self):\n",
    "        return self.stack[3].bias.detach().cpu().numpy()\n",
    "    \n",
    "    def exponents_abs_(self):\n",
    "        self.stack[1].weight.abs_()"
   ]
  },
  {
   "cell_type": "code",
   "execution_count": 7,
   "id": "bd152f7d",
   "metadata": {},
   "outputs": [],
   "source": [
    "# Define Data\n",
    "class DatasetFromFunction(Dataset):\n",
    "    def __init__(self, sample_fn, target_fn, size, noise_fn = None, positive_only=False):\n",
    "        self.x = sample_fn(size)[:, None]\n",
    "        if positive_only:\n",
    "            self.x = torch.abs(self.x)\n",
    "        self.y = target_fn(self.x)\n",
    "        if noise_fn:\n",
    "            self.y += noise_fn(size)\n",
    "    \n",
    "    def __len__(self):\n",
    "        return self.x.shape[0]\n",
    "    \n",
    "    def __getitem__(self, idx):\n",
    "        return self.x[idx], self.y[idx]"
   ]
  },
  {
   "cell_type": "code",
   "execution_count": 8,
   "id": "aac193fc-09ee-49e4-a80b-2e0e1ec1b552",
   "metadata": {},
   "outputs": [],
   "source": [
    "def get_polynomial_fn(coefficients):\n",
    "    def polynomial(x):\n",
    "        val = 0\n",
    "        for c in coefficients:\n",
    "            val = val * x + c\n",
    "        return val\n",
    "    \n",
    "    return polynomial"
   ]
  },
  {
   "cell_type": "code",
   "execution_count": 9,
   "id": "deaf83c2-c834-46d6-86dd-9a913af48ad5",
   "metadata": {},
   "outputs": [],
   "source": [
    "def truncated_normal(n, min_val, rng=None, mean=0., std=1.):\n",
    "    normal_sample = lambda: torch.normal(mean, std, (n,), generator=rng)\n",
    "    x = normal_sample()\n",
    "    while (x < min_val).any():\n",
    "        x_new = normal_sample()\n",
    "        x[x < min_val] = x_new[x < min_val]\n",
    "    return x"
   ]
  },
  {
   "cell_type": "markdown",
   "id": "6b58bb2d-6dac-46d8-b869-23c72381251f",
   "metadata": {
    "tags": []
   },
   "source": [
    "# Convergence Experiments"
   ]
  },
  {
   "cell_type": "markdown",
   "id": "22aa6752-e70a-487b-ac98-7fadea30a3b7",
   "metadata": {},
   "source": [
    "Generate the training and test set"
   ]
  },
  {
   "cell_type": "code",
   "execution_count": 10,
   "id": "946995f0",
   "metadata": {},
   "outputs": [
    {
     "data": {
      "text/plain": [
       "Text(0.5, 1.0, 'Training Set')"
      ]
     },
     "execution_count": 10,
     "metadata": {},
     "output_type": "execute_result"
    },
    {
     "data": {
      "image/png": "[encoded data removed]",
      "text/plain": [
       "<Figure size 432x288 with 1 Axes>"
      ]
     },
     "metadata": {
      "needs_background": "light"
     },
     "output_type": "display_data"
    }
   ],
   "source": [
    "rng = torch.Generator(device=\"cpu\")\n",
    "rng.manual_seed(0)\n",
    "# sample_fn = lambda n: torch.normal(0, 1, (n,), generator=rng)\n",
    "sample_fn = lambda n: truncated_normal(n, 1, rng, mean=2.5)\n",
    "coefficients = np.array([2, -15, 36, -25]) / 10\n",
    "target_fn = get_polynomial_fn(coefficients)\n",
    "# target_fn = lambda x: x**2 - 4*x + 2\n",
    "training_data = DatasetFromFunction(sample_fn, target_fn, 1000)\n",
    "val_data = DatasetFromFunction(sample_fn, target_fn, 100)\n",
    "test_data = DatasetFromFunction(sample_fn, target_fn, 100)\n",
    "\n",
    "train_dataloader = DataLoader(training_data, batch_size=128, shuffle=True)\n",
    "val_dataloader = DataLoader(training_data, batch_size=128)\n",
    "test_dataloader = DataLoader(test_data, batch_size=128)\n",
    "\n",
    "plt.scatter(training_data[:][0], training_data[:][1], alpha=0.01)\n",
    "plt.title(\"Training Set\")"
   ]
  },
  {
   "cell_type": "markdown",
   "id": "ff7f4bd4-7bf5-47b2-b1fa-716be9b12cf9",
   "metadata": {},
   "source": [
    "Initialize the model"
   ]
  },
  {
   "cell_type": "code",
   "execution_count": 11,
   "id": "a7236ee8-a775-458f-be2f-582db7dd4f47",
   "metadata": {},
   "outputs": [
    {
     "name": "stdout",
     "output_type": "stream",
     "text": [
      "PolynomialNN(\n",
      "  (stack): Sequential(\n",
      "    (0): LogActivation()\n",
      "    (1): Linear(in_features=1, out_features=3, bias=True)\n",
      "    (2): ExpActivation()\n",
      "    (3): Linear(in_features=3, out_features=1, bias=True)\n",
      "  )\n",
      ")\n"
     ]
    }
   ],
   "source": [
    "torch.manual_seed(68225)\n",
    "n_coefficients = len(coefficients)\n",
    "model = PolynomialNN(n_coefficients-1).to(device)\n",
    "with torch.no_grad():\n",
    "    model.exponents_abs_()\n",
    "print(model)"
   ]
  },
  {
   "cell_type": "markdown",
   "id": "cf3a2ef8-204e-46c0-aecb-324290804c49",
   "metadata": {},
   "source": [
    "Train the model"
   ]
  },
  {
   "cell_type": "code",
   "execution_count": 12,
   "id": "7a27c999",
   "metadata": {},
   "outputs": [],
   "source": [
    "loss_fn = nn.MSELoss()\n",
    "optimizer = torch.optim.SGD(model.parameters(), lr=1e-3, momentum=0.8, nesterov=True)\n",
    "scheduler = torch.optim.lr_scheduler.ReduceLROnPlateau(optimizer, patience=50, verbose=True)"
   ]
  },
  {
   "cell_type": "code",
   "execution_count": 13,
   "id": "71cbbeed-94bb-45a8-8c97-b9a23de23dc5",
   "metadata": {
    "tags": []
   },
   "outputs": [
    {
     "name": "stderr",
     "output_type": "stream",
     "text": [
      " 18%|████████████▋                                                         | 9084/50000 [03:01<13:45, 49.57it/s]"
     ]
    },
    {
     "name": "stdout",
     "output_type": "stream",
     "text": [
      "Epoch  9078: reducing learning rate of group 0 to 1.0000e-04.\n"
     ]
    },
    {
     "name": "stderr",
     "output_type": "stream",
     "text": [
      " 54%|█████████████████████████████████████                                | 26874/50000 [08:57<07:39, 50.33it/s]"
     ]
    },
    {
     "name": "stdout",
     "output_type": "stream",
     "text": [
      "Epoch 26866: reducing learning rate of group 0 to 1.0000e-05.\n"
     ]
    },
    {
     "name": "stderr",
     "output_type": "stream",
     "text": [
      " 54%|█████████████████████████████████████▏                               | 26932/50000 [08:58<07:35, 50.60it/s]"
     ]
    },
    {
     "name": "stdout",
     "output_type": "stream",
     "text": [
      "Epoch 26922: reducing learning rate of group 0 to 1.0000e-06.\n"
     ]
    },
    {
     "name": "stderr",
     "output_type": "stream",
     "text": [
      " 54%|█████████████████████████████████████▏                               | 26980/50000 [08:59<07:39, 50.14it/s]"
     ]
    },
    {
     "name": "stdout",
     "output_type": "stream",
     "text": [
      "Epoch 26973: reducing learning rate of group 0 to 1.0000e-07.\n"
     ]
    },
    {
     "name": "stderr",
     "output_type": "stream",
     "text": [
      " 54%|█████████████████████████████████████▎                               | 27031/50000 [09:00<07:35, 50.38it/s]"
     ]
    },
    {
     "name": "stdout",
     "output_type": "stream",
     "text": [
      "Epoch 27024: reducing learning rate of group 0 to 1.0000e-08.\n"
     ]
    },
    {
     "name": "stderr",
     "output_type": "stream",
     "text": [
      "100%|█████████████████████████████████████████████████████████████████████| 50000/50000 [16:43<00:00, 49.85it/s]"
     ]
    },
    {
     "name": "stdout",
     "output_type": "stream",
     "text": [
      "Test Error: Avg loss: 0.001000 \n",
      "\n",
      "Done!\n"
     ]
    },
    {
     "name": "stderr",
     "output_type": "stream",
     "text": [
      "\n"
     ]
    }
   ],
   "source": [
    "epochs = 50000\n",
    "exponent_path = [model.get_exponents()]\n",
    "coefficient_path = [model.get_coefficients()]\n",
    "bias_path = [model.get_bias()]\n",
    "loss_path = [test(test_dataloader, model, loss_fn, False)]\n",
    "for t in tqdm(range(epochs)):\n",
    "    train(train_dataloader, model, loss_fn, optimizer)\n",
    "    scheduler.step(test(val_dataloader, model, loss_fn, False))\n",
    "    exponent_path.append(model.get_exponents())\n",
    "    coefficient_path.append(model.get_coefficients())\n",
    "    bias_path.append(model.get_bias())\n",
    "    loss_path.append(test(test_dataloader, model, loss_fn, False))\n",
    "test(test_dataloader, model, loss_fn)\n",
    "print(\"Done!\")"
   ]
  },
  {
   "cell_type": "code",
   "execution_count": 14,
   "id": "c8af322e-88f5-45af-97ed-e7d7041f2c66",
   "metadata": {},
   "outputs": [
    {
     "data": {
      "text/plain": [
       "Text(0.5, 1.0, 'Test Loss')"
      ]
     },
     "execution_count": 14,
     "metadata": {},
     "output_type": "execute_result"
    },
    {
     "data": {
      "image/png": "[encoded data removed]",
      "text/plain": [
       "<Figure size 432x288 with 1 Axes>"
      ]
     },
     "metadata": {
      "needs_background": "light"
     },
     "output_type": "display_data"
    }
   ],
   "source": [
    "loss_start_epoch = 100\n",
    "plt.plot(range(loss_start_epoch, epochs+1), loss_path[loss_start_epoch:])\n",
    "plt.xlabel(\"Epoch\")\n",
    "plt.ylabel(\"Mean Squared Error\")\n",
    "plt.yscale(\"log\")\n",
    "plt.title(\"Test Loss\")"
   ]
  },
  {
   "cell_type": "code",
   "execution_count": 15,
   "id": "2d751373-4c24-4dc6-adeb-7bb4cf203743",
   "metadata": {},
   "outputs": [],
   "source": [
    "# Condense paths into arrays\n",
    "exponent_path = np.stack(exponent_path)[:,:,0]\n",
    "coefficient_path = np.stack(coefficient_path)[:,0,:]\n",
    "bias_path = np.stack(bias_path)\n",
    "\n",
    "# Sort from lowest to largest exponent\n",
    "ind = np.argsort(exponent_path[-1])\n",
    "exponent_path = exponent_path[:, ind]\n",
    "coefficient_path = coefficient_path[:, ind]\n",
    "coefficient_path = np.hstack([bias_path, coefficient_path])  # bias matches the oi-th degree coefficient"
   ]
  },
  {
   "cell_type": "code",
   "execution_count": 16,
   "id": "44a2c7a7-4818-4281-8839-0cf047fb37e2",
   "metadata": {},
   "outputs": [
    {
     "data": {
      "text/plain": [
       "<matplotlib.legend.Legend at 0x2205825af40>"
      ]
     },
     "execution_count": 16,
     "metadata": {},
     "output_type": "execute_result"
    },
    {
     "data": {
      "image/png": "[encoded data removed]",
      "text/plain": [
       "<Figure size 1008x360 with 2 Axes>"
      ]
     },
     "metadata": {
      "needs_background": "light"
     },
     "output_type": "display_data"
    }
   ],
   "source": [
    "# Prepare for plotting\n",
    "fig, ax = plt.subplots(1, 2, figsize = (14, 5))\n",
    "prop_cycle = plt.rcParams['axes.prop_cycle']\n",
    "colors = prop_cycle.by_key()['color']\n",
    "\n",
    "# Plot the exponents path\n",
    "for i, path in enumerate(exponent_path.T):\n",
    "    label = \"Target Exponents\" if i == 0 else None\n",
    "    ax[0].plot(np.full(epochs+1, i+1), label=label, c=colors[i], ls=\"--\")\n",
    "    label = \"Learned exponents\" if i == 0 else None\n",
    "    ax[0].plot(path, label=label, c=colors[i])\n",
    "\n",
    "plot_bottom = ax[0].get_ylim()[0]\n",
    "if plot_bottom > 0:\n",
    "    ax[0].set_ylim(0)\n",
    "        \n",
    "ax[0].set_title(\"Learned Exponent Paths\")\n",
    "ax[0].set_xlabel(\"Epoch\")\n",
    "ax[0].set_ylabel(\"Exponent Value\")\n",
    "ax[0].legend()\n",
    "\n",
    "# Plot the coefficient paths\n",
    "for degree, (coefficient, path) in enumerate(zip(coefficients[::-1], coefficient_path.T)):\n",
    "    label = \"Target coefficient\" if degree == 0 else None\n",
    "    ax[1].plot(np.full(epochs+1, coefficient), label=label, c=colors[degree], ls=\"--\")\n",
    "    label = f\"Learned {degree}-th degree coefficient\"\n",
    "    ax[1].plot(path, label=label, c=colors[degree])\n",
    "        \n",
    "ax[1].set_title(\"Learned Coefficient Paths\")\n",
    "ax[1].set_xlabel(\"Epoch\")\n",
    "ax[1].set_ylabel(\"Coefficient Value\")\n",
    "ax[1].legend()"
   ]
  },
  {
   "cell_type": "code",
   "execution_count": 20,
   "id": "8fed3548-1da0-41ed-8c5f-1402c49c51f1",
   "metadata": {},
   "outputs": [
    {
     "data": {
      "text/plain": [
       "<matplotlib.legend.Legend at 0x21f8cf0dfd0>"
      ]
     },
     "execution_count": 20,
     "metadata": {},
     "output_type": "execute_result"
    },
    {
     "data": {
      "image/png": "[encoded data removed]",
      "text/plain": [
       "<Figure size 432x288 with 1 Axes>"
      ]
     },
     "metadata": {
      "needs_background": "light"
     },
     "output_type": "display_data"
    }
   ],
   "source": [
    "train_x = training_data[:][0]\n",
    "test_x = test_data[:][0] * 2 - 1\n",
    "# test_x = torch.normal(0, 3, (100,), generator=rng)[:, None].abs()\n",
    "x = torch.cat((train_x, test_x))\n",
    "x = torch.from_numpy(np.linspace(x.min(), x.max(), 200))\n",
    "\n",
    "model.eval()\n",
    "model.to('cpu')\n",
    "plt.plot(x, target_fn(x), label=\"ground truth\")\n",
    "plt.scatter(test_x, model(test_x).detach(), c=\"green\", alpha=0.5, label=\"test prediction\")\n",
    "plt.scatter(train_x, model(train_x).detach(), c=\"orange\", alpha=0.2, label=\"train prediction\")\n",
    "model.to(device)\n",
    "plt.legend()"
   ]
  },
  {
   "cell_type": "code",
   "execution_count": 18,
   "id": "a48e0178-f02e-4c4a-bd92-a60a8a5a1b5c",
   "metadata": {},
   "outputs": [
    {
     "data": {
      "text/plain": [
       "array([[3.72156841],\n",
       "       [2.74362546],\n",
       "       [1.38004713]])"
      ]
     },
     "execution_count": 18,
     "metadata": {},
     "output_type": "execute_result"
    }
   ],
   "source": [
    "model.get_exponents()"
   ]
  },
  {
   "cell_type": "code",
   "execution_count": 19,
   "id": "b3937b97-86d3-45a3-9c14-8c6e5b3dff13",
   "metadata": {},
   "outputs": [
    {
     "data": {
      "text/plain": [
       "(array([[ 0.26781164, -0.48810624,  1.03317855]]), array([-0.68046423]))"
      ]
     },
     "execution_count": 19,
     "metadata": {},
     "output_type": "execute_result"
    }
   ],
   "source": [
    "model.get_coefficients(), model.get_bias()"
   ]
  },
  {
   "cell_type": "code",
   "execution_count": null,
   "id": "230d7e5f-0c3a-4a39-bb97-b19cf4d77c00",
   "metadata": {},
   "outputs": [],
   "source": []
  }
 ],
 "metadata": {
  "kernelspec": {
   "display_name": "Python 3 (ipykernel)",
   "language": "python",
   "name": "python3"
  },
  "language_info": {
   "codemirror_mode": {
    "name": "ipython",
    "version": 3
   },
   "file_extension": ".py",
   "mimetype": "text/x-python",
   "name": "python",
   "nbconvert_exporter": "python",
   "pygments_lexer": "ipython3",
   "version": "3.8.12"
  }
 },
 "nbformat": 4,
 "nbformat_minor": 5
}
